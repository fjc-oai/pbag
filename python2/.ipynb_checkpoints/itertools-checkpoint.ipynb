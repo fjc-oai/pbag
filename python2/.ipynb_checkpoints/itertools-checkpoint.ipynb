{
 "cells": [
  {
   "cell_type": "markdown",
   "id": "1e0a1491-19fb-4970-b50f-9ce0a690dcb0",
   "metadata": {},
   "source": [
    "# Itertools\n",
    "- `itertools.count()`\n",
    "- `more_itertools.batched()`"
   ]
  },
  {
   "cell_type": "code",
   "execution_count": 6,
   "id": "06328b76-22dc-4fe4-bde6-88a42a9286ac",
   "metadata": {},
   "outputs": [],
   "source": [
    "import itertools\n",
    "import more_itertools"
   ]
  },
  {
   "cell_type": "code",
   "execution_count": 7,
   "id": "17a1f57b-41bc-4186-b004-450a4f29da0a",
   "metadata": {},
   "outputs": [
    {
     "name": "stdout",
     "output_type": "stream",
     "text": [
      "[1, 2, 3, 4, 5, 6, 7, 8, 9, 10]\n"
     ]
    }
   ],
   "source": [
    "itr1 = itertools.count(start=1)\n",
    "l = [next(itr1) for _ in range(10)]\n",
    "print(l)"
   ]
  },
  {
   "cell_type": "code",
   "execution_count": 8,
   "id": "55def255-cf80-444a-986e-bd8a2292d6bb",
   "metadata": {},
   "outputs": [
    {
     "name": "stdout",
     "output_type": "stream",
     "text": [
      "[(1, 2, 3, 4), (5, 6, 7, 8), (9, 10)]\n"
     ]
    }
   ],
   "source": [
    "buckets = list(more_itertools.batched(l, 4))\n",
    "print(buckets)"
   ]
  }
 ],
 "metadata": {
  "kernelspec": {
   "display_name": "Python 3 (ipykernel)",
   "language": "python",
   "name": "python3"
  },
  "language_info": {
   "codemirror_mode": {
    "name": "ipython",
    "version": 3
   },
   "file_extension": ".py",
   "mimetype": "text/x-python",
   "name": "python",
   "nbconvert_exporter": "python",
   "pygments_lexer": "ipython3",
   "version": "3.11.5"
  }
 },
 "nbformat": 4,
 "nbformat_minor": 5
}
