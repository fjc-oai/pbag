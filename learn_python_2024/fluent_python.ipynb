{
 "cells": [
  {
   "cell_type": "markdown",
   "metadata": {},
   "source": [
    "# Fluent Python\n",
    "- by Luciano Ramalho\n",
    "- https://www.amazon.com/Fluent-Python-Concise-Effective-Programming/dp/1491946008"
   ]
  },
  {
   "cell_type": "markdown",
   "metadata": {},
   "source": [
    "## Chapter 1: python data model\n",
    "1. Dunder method (magic method)\n",
    "    - Python built-in method, standard libs are built upon dunder method.\n",
    "    - Define dunder method for your class. Get all functionalities for free.\n",
    "    \n",
    "    \n"
   ]
  },
  {
   "cell_type": "code",
   "execution_count": 1,
   "metadata": {},
   "outputs": [
    {
     "name": "stdout",
     "output_type": "stream",
     "text": [
      "len(school)=3\n",
      "school[0:2]=['Alice', 'Bob']\n",
      "[student for student in school]=['Alice', 'Bob', 'Charlie']\n",
      "random.choice(school)='Bob'\n"
     ]
    }
   ],
   "source": [
    "import random\n",
    "\n",
    "\n",
    "class School:\n",
    "    def __init__(self, students):\n",
    "        self.students = list(students)\n",
    "\n",
    "    def __len__(self):\n",
    "        return len(self.students)\n",
    "\n",
    "    def __getitem__(self, i):\n",
    "        return self.students[i]\n",
    "\n",
    "\n",
    "school = School([\"Alice\", \"Bob\", \"Charlie\"])\n",
    "print(f\"{len(school)=}\")\n",
    "print(f\"{school[0:2]=}\")\n",
    "print(f\"{[student for student in school]=}\")\n",
    "print(f\"{random.choice(school)=}\")"
   ]
  },
  {
   "cell_type": "markdown",
   "metadata": {},
   "source": [
    "## Chapter 2: an array of sequences\n",
    "1. list operations: `+`, `*`\n",
    "2. array stores packed bytes, which is more effective than list\n",
    "3. Use memoryview() to inspect memory buffer with cast()"
   ]
  },
  {
   "cell_type": "code",
   "execution_count": 3,
   "metadata": {},
   "outputs": [
    {
     "name": "stdout",
     "output_type": "stream",
     "text": [
      "[1,2,3] + [4,5,6]=[1, 2, 3, 4, 5, 6]\n",
      "[1,2,3] * 3=[1, 2, 3, 1, 2, 3, 1, 2, 3]\n",
      "arr=array('i', [1, 2, 3])\n"
     ]
    }
   ],
   "source": [
    "import array\n",
    "\n",
    "print(f\"{[1,2,3] + [4,5,6]=}\")\n",
    "print(f\"{[1,2,3] * 3=}\")\n",
    "arr = array.array(\"i\", [1, 2, 3])\n",
    "print(f\"{arr=}\")"
   ]
  },
  {
   "cell_type": "markdown",
   "metadata": {},
   "source": [
    "## Chapter 3: dictionaries and sets\n",
    "1. hashable\n",
    "    - Hashable-ness can be used as dict/set key\n",
    "    - Hashable requires to define __hash__() and __eq__(). Equal objects much have the same hash.\n",
    "    - Custom classes are by default hashable. __hash__() returns id(), and __eq__() returns False.\n",
    "2. Use defaultdict and setdefault to handle missing values\n",
    "3. OrderedDict, Counter are handy dict variants\n",
    "4. Handy set opertions for & and |"
   ]
  },
  {
   "cell_type": "code",
   "execution_count": 7,
   "metadata": {},
   "outputs": [
    {
     "name": "stdout",
     "output_type": "stream",
     "text": [
      "d[foo]='bar'\n",
      "d[bar]='baz'\n",
      "res=defaultdict(<function <lambda> at 0x10da53380>, {'foo': defaultdict(<class 'list'>, {'bar': [42, 23], 'baz': [7]})})\n",
      "s1 | s2={1, 2, 3, 4, 5}\n",
      "s1 & s2={3}\n"
     ]
    }
   ],
   "source": [
    "from collections import defaultdict\n",
    "\n",
    "\n",
    "class Foo:\n",
    "    def __init__(self, x):\n",
    "        self.x = x\n",
    "\n",
    "\n",
    "foo = Foo(42)\n",
    "d = {foo: \"bar\"}\n",
    "print(f\"{d[foo]=}\")\n",
    "\n",
    "\n",
    "class Bar:\n",
    "    def __init__(self, x):\n",
    "        self.x = x\n",
    "\n",
    "    def __hash__(self):\n",
    "        return hash(self.x)\n",
    "\n",
    "    def __eq__(self, other):\n",
    "        return self.x == other.x\n",
    "\n",
    "\n",
    "bar = Bar(42)\n",
    "d = {bar: \"baz\"}\n",
    "print(f\"{d[bar]=}\")\n",
    "\n",
    "res = defaultdict(lambda: defaultdict(list))\n",
    "res[\"foo\"][\"bar\"].append(42)\n",
    "res[\"foo\"][\"bar\"].append(23)\n",
    "res[\"foo\"][\"baz\"].append(7)\n",
    "print(f\"{res=}\")\n",
    "\n",
    "s1 = {1, 2, 3}\n",
    "s2 = {3, 4, 5}\n",
    "print(f\"{s1 | s2=}\")\n",
    "print(f\"{s1 & s2=}\")"
   ]
  },
  {
   "cell_type": "markdown",
   "metadata": {},
   "source": [
    "## Chapter 4. str vs bytes\n",
    "1. Unicode: separation of code point and byte representation\n",
    "    - Encode: code point to bytes\n",
    "    - Decode: bytes to code point\n",
    "    - Str in RAM representation is Python implementation details. Usually some memory efficient format\n",
    "2. Bytes display\n",
    "    - Printable ASCII bytes: displayed as is\n",
    "    - Special chars, e.g. tab, newline: using escape sequences, e.g. \\t, \\n, etc\n",
    "    - Other bytes: hexadecimal escape sequence, e.g. \\x00\n",
    "3. Unicode sandwidth\n",
    "    - Decode bytes on input, process text only, encode text on output\n",
    "    - open() handles encoding/decoding automatically \n",
    "        - w/r: open files in text mode, with default uft-8 encoding/decoding. str in and str out. \n",
    "        - raises exception if, say, write bytes\n",
    "        - wb/rb: open files in byte mode. expect bytes input/output"
   ]
  },
  {
   "cell_type": "code",
   "execution_count": 6,
   "metadata": {},
   "outputs": [
    {
     "name": "stdout",
     "output_type": "stream",
     "text": [
      "s_='你好'\n",
      "b=b'\\xe4\\xbd\\xa0\\xe5\\xa5\\xbd'\n",
      "b=b'abc\\t\\n\\x01'\n",
      "f.read()=b'Hello, World!\\n'\n"
     ]
    }
   ],
   "source": [
    "import encodings\n",
    "\n",
    "s = \"你好\"\n",
    "b = s.encode(\"utf-8\")\n",
    "s_ = b.decode(\"utf-8\")\n",
    "print(f\"{s_=}\")\n",
    "print(f\"{b=}\")\n",
    "\n",
    "b = b\"abc\\t\\n\\x01\"\n",
    "print(f\"{b=}\")\n",
    "\n",
    "with open(\"test.txt\", \"wb\") as f:\n",
    "    f.write(\"Hello, World!\\n\".encode(\"utf-8\"))\n",
    "with open(\"test.txt\", \"rb\") as f:\n",
    "    print(f\"{f.read()=}\")"
   ]
  },
  {
   "cell_type": "markdown",
   "metadata": {},
   "source": [
    "## Chapter 5. First Class Functions\n",
    "0. First class object:\n",
    "    - created at runtime, passed as an argument to a function, returned as a result from a function\n",
    "1. dir() vs __dict__(): \n",
    "    - dir() returns all attributes?\n",
    "    - __dict__() returns user attributes assigned to it?\n",
    "2. Inspection\n",
    "    - __names__, __doc__, __annotation__, __code__, etc\n",
    "    - inspect module\n",
    "3. Handy higher-order functions\n",
    "    - partial: freeze arguments"
   ]
  },
  {
   "cell_type": "code",
   "execution_count": 8,
   "metadata": {},
   "outputs": [
    {
     "name": "stdout",
     "output_type": "stream",
     "text": [
      "a=1 b=2 c=7\n",
      "fn_by_7(1, 2)=10\n"
     ]
    }
   ],
   "source": [
    "import functools\n",
    "\n",
    "\n",
    "def fn(a, b, c):\n",
    "    print(f\"{a=} {b=} {c=}\")\n",
    "    return a + b + c\n",
    "\n",
    "\n",
    "fn_by_7 = functools.partial(fn, c=7)\n",
    "print(f\"{fn_by_7(1, 2)=}\")"
   ]
  },
  {
   "cell_type": "markdown",
   "metadata": {},
   "source": [
    "## Chapter 7. Decorators and Closures\n",
    "1. Variable scope\n",
    "    - Python compiles the body of the function before execution\n",
    "    - If a variable is assigned to a value, Python treats it as a new variable\n",
    "    - If a variable is accessed only, it look up outer scopes as a reference\n",
    "    - Use dis() to disassemble a function and inspect bytecode\n",
    "2. Closure: a function with an extended scope \n",
    "    - Access non-global variables that defined out of its body\n",
    "    - Called free variables\n",
    "3. nonlocal: declare reference to a free variable\n",
    "4. Decorator & Parameterized Decorator\n",
    "    - Use functools.wraps to copy relavant attributes\n",
    "    - Parameterized decorator needs to be a decorator factory\n",
    "    - Another handy functools lib, lru_cache"
   ]
  },
  {
   "cell_type": "code",
   "execution_count": 11,
   "metadata": {},
   "outputs": [
    {
     "name": "stdout",
     "output_type": "stream",
     "text": [
      "ma(1)=1.0\n",
      "ma(2)=1.5\n",
      "Calculating 1\n",
      "Calculating 2\n",
      "Calculating 3\n",
      "Calculating 1\n"
     ]
    },
    {
     "data": {
      "text/plain": [
       "1"
      ]
     },
     "execution_count": 11,
     "metadata": {},
     "output_type": "execute_result"
    }
   ],
   "source": [
    "import functools\n",
    "\n",
    "\n",
    "def moving_avg():\n",
    "    sum = 0.0\n",
    "    n = 0\n",
    "\n",
    "    def inner(x):\n",
    "        nonlocal sum, n\n",
    "        sum += x\n",
    "        n += 1\n",
    "        return sum / n\n",
    "\n",
    "    return inner\n",
    "\n",
    "\n",
    "ma = moving_avg()\n",
    "print(f\"{ma(1)=}\")\n",
    "print(f\"{ma(2)=}\")\n",
    "\n",
    "\n",
    "def lru_cache(maxsize=128):\n",
    "    def decorator(fn):\n",
    "        cache = {}\n",
    "\n",
    "        @functools.wraps(fn)\n",
    "        def inner(*args, **kwargs):\n",
    "            key = (args, tuple(kwargs.items()))\n",
    "            if key in cache:\n",
    "                return cache[key]\n",
    "            result = fn(*args, **kwargs)\n",
    "            if len(cache) >= maxsize:\n",
    "                cache.pop(next(iter(cache)))\n",
    "            cache[key] = result\n",
    "            return result\n",
    "\n",
    "        return inner\n",
    "\n",
    "    return decorator\n",
    "\n",
    "\n",
    "@lru_cache(maxsize=2)\n",
    "def fn(x):\n",
    "    print(f\"Calculating {x}\")\n",
    "    return x * x\n",
    "\n",
    "\n",
    "fn(1)\n",
    "fn(2)\n",
    "fn(1)\n",
    "fn(3)\n",
    "fn(1)"
   ]
  },
  {
   "cell_type": "markdown",
   "metadata": {},
   "source": [
    "## Chapter 8. Object Memory Management\n",
    "1. Identity, equality, and alias\n",
    "    - `is` vs `==`\n",
    "2. Copy vs deepcopy\n",
    "    - Shallow copy by default\n",
    "    - Shallow copy creates alias for each attribute of the object\n",
    "        - For list, it creates alias for each element\n",
    "        - For dict, it creates alias for each kv\n",
    "    - deepcopy recursively copies everything\n",
    "3. Function parameters as references\n",
    "    - Mutable types as parameter defaults is error prone, e.g. def foo(l=[])\n",
    "        - All class/function instances share the same default param value\n",
    "    - Use copy instead of assign to store argument as member variable, e.g.\n",
    "        def foo(self, l):\n",
    "            self._l = list(l)\n",
    "4. Gargabe Collection\n",
    "    - del deletes names, not objects\n",
    "    - Objects are freed either, 1) refcount reaches zero, immediately destroyed, 2) reference cycle detection when gc.collect()\n",
    "    - Python console automatically bind _ variable to the result of expression that are not None"
   ]
  },
  {
   "cell_type": "code",
   "execution_count": 15,
   "metadata": {},
   "outputs": [
    {
     "name": "stdout",
     "output_type": "stream",
     "text": [
      "l=[1, 2, [3, 4, 6], 5]\n",
      "l2=[1, 2, [3, 4, 6]]\n",
      "l3=[1, 2, [3, 4]]\n"
     ]
    }
   ],
   "source": [
    "import copy\n",
    "\n",
    "l = [1, 2, [3, 4]]\n",
    "l2 = copy.copy(l)\n",
    "l3 = copy.deepcopy(l)\n",
    "l.append(5)\n",
    "l[2].append(6)\n",
    "print(f\"{l=}\")\n",
    "print(f\"{l2=}\")\n",
    "print(f\"{l3=}\")"
   ]
  },
  {
   "cell_type": "markdown",
   "metadata": {},
   "source": [
    "## Chapter 9. A Pythonic Object (more dunder methods)\n",
    "1. Classmethod vs Staticmethod: \n",
    "    - Classmethod: commonly used as alternative constructors\n",
    "    - Staticmethod: no good reason of existance\n",
    "2. More dunder methods: __format__(), __hash__()\n",
    "    - __slots__: 1) efficient memory format, 2) forbid extra attributes definitions"
   ]
  },
  {
   "cell_type": "code",
   "execution_count": 18,
   "metadata": {},
   "outputs": [
    {
     "name": "stdout",
     "output_type": "stream",
     "text": [
      "'Foo' object has no attribute 'z'\n"
     ]
    }
   ],
   "source": [
    "class Foo:\n",
    "    __slots__ = [\"x\", \"y\"]\n",
    "\n",
    "    def __init__(self, x, y):\n",
    "        self.x = x\n",
    "        self.y = y\n",
    "\n",
    "\n",
    "class Bar:\n",
    "    def __init__(self, x, y):\n",
    "        self.x = x\n",
    "        self.y = y\n",
    "\n",
    "\n",
    "foo = Foo(1, 2)\n",
    "try:\n",
    "    foo.z = 3\n",
    "except AttributeError as e:\n",
    "    print(e)\n",
    "bar = Bar(1, 2)\n",
    "bar.z = 3"
   ]
  },
  {
   "cell_type": "markdown",
   "metadata": {},
   "source": [
    "## Chapter 10 & 11. More and more dunner methods\n",
    "1. Duck-typing: don't check type. Check behaviors.\n",
    "2. Monkey patching: changing a class or module at runtime, without touching the source code."
   ]
  },
  {
   "cell_type": "markdown",
   "metadata": {},
   "source": [
    "## Chapter 14. Iterables, Iterators, and Generators\n",
    "1. For-in-loop under the hook  \n",
    "    - calls iter(x) over an object to get the iterator\n",
    "    - iter() checks if __iter__() is implemented, or fallback to __getitem__(), or TypeError\n",
    "    - repeatedly calls next(it), until StopIteration exception\n",
    "2. Iterable vs Iterator\n",
    "    - Iterable interface implements __iter__() method which returns a iterator, (or implements __getitem__())\n",
    "    - Iterator inteface implements __next__() to return the next available item (or raise StopIteration), \n",
    "        and __iter__() to return itself, which allows iterators to be used where an iterable is expected\n",
    "    Iterators are iterable. Iterables may not be iterators.\n",
    "3. Generator vs Iterator\n",
    "    - Functional wise, every generator is a iterator, which implements iterator interface (__next__ and __iter__).\n",
    "    - Conceptual wise, iterator retrieves items from an existing inventory, whereas generator creates new things.\n",
    "    - In many cases, people don't strictly distinsh iterator and generator.\n",
    "4. itertools.count(0, 1)"
   ]
  },
  {
   "cell_type": "code",
   "execution_count": 1,
   "metadata": {},
   "outputs": [
    {
     "name": "stdout",
     "output_type": "stream",
     "text": [
      "Alice\n",
      "Bob\n",
      "Charlie\n"
     ]
    }
   ],
   "source": [
    "class StudentsIterator:\n",
    "    def __init__(self, students):\n",
    "        self.students = list(students)\n",
    "        self.i = 0\n",
    "\n",
    "    def __next__(self):\n",
    "        if self.i < len(self.students):\n",
    "            student = self.students[self.i]\n",
    "            self.i += 1\n",
    "            return student\n",
    "        raise StopIteration\n",
    "\n",
    "    def __iter__(self):\n",
    "        return self\n",
    "\n",
    "\n",
    "class Students:\n",
    "    def __init__(self, students):\n",
    "        self.students = students\n",
    "\n",
    "    def __iter__(self):\n",
    "        return StudentsIterator(self.students)\n",
    "\n",
    "\n",
    "students = Students([\"Alice\", \"Bob\", \"Charlie\"])\n",
    "for student in students:\n",
    "    print(student)"
   ]
  },
  {
   "cell_type": "markdown",
   "metadata": {},
   "source": [
    "## Chapter 15. Contgext Manasger\n",
    "1. Implement `__enter__()` and `__exit__()` for context manager interface.\n",
    "2. Use `@contextlib.contextmanager` decorator with yield.\n",
    "3. Remember to include try final, otherwise exception raised in the body of with block, without restoring the state."
   ]
  },
  {
   "cell_type": "code",
   "execution_count": 3,
   "metadata": {},
   "outputs": [
    {
     "name": "stdout",
     "output_type": "stream",
     "text": [
      "sleep 1s took 1.01s\n"
     ]
    }
   ],
   "source": [
    "from contextlib import contextmanager\n",
    "\n",
    "\n",
    "@contextmanager\n",
    "def latency(tag):\n",
    "    import time\n",
    "\n",
    "    start = time.time()\n",
    "    try:\n",
    "        yield\n",
    "    finally:\n",
    "        print(f\"{tag} took {time.time() - start:.2f}s\")\n",
    "\n",
    "\n",
    "with latency(\"sleep 1s\"):\n",
    "    import time\n",
    "\n",
    "    time.sleep(1)"
   ]
  },
  {
   "cell_type": "markdown",
   "metadata": {},
   "source": [
    "## Chapter 16. Coroutines\n",
    "1. Coroutines for Cooperative Multitask\n",
    "2. Coroutine has 4 state: `created`, `running`, `suspended`, `closed`\n",
    "3. Push and pull values from coroutine: `x = yield y`\n",
    "4. Major interface: `next()`, `send()`, `close()`, `throw()`\n",
    "5. `yield from`: a syntax to allow the client to directly drive subgenerator directly, effectively bypass delegating generators"
   ]
  },
  {
   "cell_type": "code",
   "execution_count": 6,
   "metadata": {},
   "outputs": [
    {
     "name": "stdout",
     "output_type": "stream",
     "text": [
      "Alice plays paper\n",
      "Alice plays scissors\n",
      "Bob plays rock\n",
      "Alice plays paper\n",
      "Bob plays scissors\n",
      "Alice plays rock\n",
      "Bob plays paper\n"
     ]
    }
   ],
   "source": [
    "import random\n",
    "\n",
    "options = (\"rock\", \"paper\", \"scissors\")\n",
    "\n",
    "\n",
    "def player(name):\n",
    "    opponent = yield\n",
    "    while True:\n",
    "        if opponent is None:\n",
    "            break\n",
    "        option = options[(options.index(opponent) + 1) % 3]\n",
    "        print(f\"{name} plays {option}\")\n",
    "        opponent = yield option\n",
    "\n",
    "\n",
    "p1 = player(\"Alice\")\n",
    "next(p1)\n",
    "p2 = player(\"Bob\")\n",
    "next(p2)\n",
    "option = p1.send(random.choice(options))\n",
    "for round in range(3):\n",
    "    option = p1.send(option)\n",
    "    option = p2.send(option)\n"
   ]
  },
  {
   "cell_type": "markdown",
   "metadata": {},
   "source": []
  }
 ],
 "metadata": {
  "kernelspec": {
   "display_name": "openai",
   "language": "python",
   "name": "python3"
  },
  "language_info": {
   "codemirror_mode": {
    "name": "ipython",
    "version": 3
   },
   "file_extension": ".py",
   "mimetype": "text/x-python",
   "name": "python",
   "nbconvert_exporter": "python",
   "pygments_lexer": "ipython3",
   "version": "3.11.5"
  }
 },
 "nbformat": 4,
 "nbformat_minor": 2
}
