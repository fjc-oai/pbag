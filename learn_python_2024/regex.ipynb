{
  "metadata": {
    "kernelspec": {
      "name": "python",
      "display_name": "Python (Pyodide)",
      "language": "python"
    },
    "language_info": {
      "codemirror_mode": {
        "name": "python",
        "version": 3
      },
      "file_extension": ".py",
      "mimetype": "text/x-python",
      "name": "python",
      "nbconvert_exporter": "python",
      "pygments_lexer": "ipython3",
      "version": "3.8"
    }
  },
  "nbformat_minor": 4,
  "nbformat": 4,
  "cells": [
    {
      "cell_type": "markdown",
      "source": "# Regex\nhttps://docs.python.org/3/howto/regex.html#more-metacharacters",
      "metadata": {}
    },
    {
      "cell_type": "markdown",
      "source": "## 1. Simple pattern",
      "metadata": {}
    },
    {
      "cell_type": "code",
      "source": "import re",
      "metadata": {
        "trusted": true
      },
      "outputs": [],
      "execution_count": 3
    },
    {
      "cell_type": "code",
      "source": "p = re.compile(r\"abc\")\nm = p.search(\"asdfabcasdf\")\nprint(f\"{m.start()}, {m.end()}, {m.group()}\")",
      "metadata": {
        "trusted": true
      },
      "outputs": [
        {
          "name": "stdout",
          "text": "4, 7, abc\n",
          "output_type": "stream"
        }
      ],
      "execution_count": 4
    },
    {
      "cell_type": "markdown",
      "source": "## 2. Match APIs\n- `match()`: match from the beginning\n- `search()`: search the entire string\n- `findall()`: find all matches\n- `finditer()`: find all matches as iterator",
      "metadata": {}
    },
    {
      "cell_type": "markdown",
      "source": "## 3. Character Class\n- `[abc]`, `[a-z]`, `[0-0]`, etc\n- `^`: complementing the set, e.g. `[^abc]`. Note, have to be at the beginning\n- `/d`: [0-9]\n- `/s`: [\\r\\n\\r\\f\\v]\n- `/w`: [a-zA-Z0-9_]",
      "metadata": {}
    },
    {
      "cell_type": "code",
      "source": "p = re.compile(r\"[abc][123]\")\nm = p.search(\"aaabbb111222ccc\")\nprint(f\"{m.start()}, {m.end()}, {m.group()}\")",
      "metadata": {
        "trusted": true
      },
      "outputs": [
        {
          "name": "stdout",
          "text": "5, 7, b1\n",
          "output_type": "stream"
        }
      ],
      "execution_count": 5
    },
    {
      "cell_type": "markdown",
      "source": "## 4. Repitition\n- `{m, n}`: at least m, at most n\n- `*` == {0,}\n- `+` == {1,}\n- `?` == {0,1}",
      "metadata": {}
    },
    {
      "cell_type": "code",
      "source": "p = re.compile(r\"[0-9]{3}\")\nfor itr in p.finditer(\"asdf123def456\"):\n    print(itr.group())",
      "metadata": {
        "trusted": true
      },
      "outputs": [
        {
          "name": "stdout",
          "text": "123\n456\n",
          "output_type": "stream"
        }
      ],
      "execution_count": 6
    },
    {
      "cell_type": "markdown",
      "source": "## 5. Group\n- `()`\n- `|`: or",
      "metadata": {}
    },
    {
      "cell_type": "code",
      "source": "p = re.compile(r\"\\+?(\\d)-(\\d{3})-(\\d{3})-(\\d{4})\")\nfor itr in p.finditer(\"my numbers are 1-123-456-7890 and +2-345-667-1234\"):\n    print(f\"{itr.group(0)",
      "metadata": {
        "trusted": true
      },
      "outputs": [],
      "execution_count": null
    }
  ]
}