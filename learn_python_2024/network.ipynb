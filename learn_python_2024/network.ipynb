{
 "cells": [
  {
   "cell_type": "markdown",
   "metadata": {},
   "source": [
    "# Network\n",
    "\n",
    "https://github.com/fmars/tiny-asyncio/tree/main\n",
    "\n",
    "- socket programming\n",
    "- select & selector\n",
    "- asyncio "
   ]
  },
  {
   "cell_type": "markdown",
   "metadata": {},
   "source": []
  }
 ],
 "metadata": {
  "language_info": {
   "name": "python"
  }
 },
 "nbformat": 4,
 "nbformat_minor": 2
}
