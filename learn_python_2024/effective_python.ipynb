{
 "cells": [
  {
   "cell_type": "markdown",
   "metadata": {},
   "source": [
    "# Effective Python The Book: Second Edition\n",
    "- By Brett Slatkin\n",
    "- https://effectivepython.com/"
   ]
  },
  {
   "cell_type": "markdown",
   "metadata": {},
   "source": [
    "## Chapter 1: pythonic thinking\n",
    "1. assignment expression"
   ]
  },
  {
   "cell_type": "code",
   "execution_count": 4,
   "metadata": {},
   "outputs": [
    {
     "name": "stdout",
     "output_type": "stream",
     "text": [
      "6\n"
     ]
    }
   ],
   "source": [
    "if (x:= 1 + 5) > 3:\n",
    "    print(x)"
   ]
  },
  {
   "cell_type": "markdown",
   "metadata": {},
   "source": [
    "## Chapter 2: Lists and Dictionaries\n",
    "1. catch-all unpacking\n",
    "    `a, *b, c = [1, 2, 3, 4, 5]`\n",
    "\n",
    "2. sort using key parameter\n",
    "    `sorted(iterable, key=lambda x: x[1])`\n",
    "\n",
    "3. update nested dict\n",
    "```\n",
    "    d[key] = d.get(key, 0) + 1\n",
    "    from collections import defaultdict\n",
    "    d = defaultdict(lambda: defaultdict(list))\n",
    "```"
   ]
  },
  {
   "cell_type": "code",
   "execution_count": 6,
   "metadata": {},
   "outputs": [
    {
     "name": "stdout",
     "output_type": "stream",
     "text": [
      "a=1, b=[2, 3, 4], c=5\n",
      "[Student(name='Bob', age=21, grade=90), Student(name='Charlie', age=22, grade=70), Student(name='Alice', age=20, grade=53)]\n"
     ]
    }
   ],
   "source": [
    "a, *b, c = [1,2,3,4,5]\n",
    "print(f\"{a=}, {b=}, {c=}\")\n",
    "\n",
    "import collections\n",
    "Student = collections.namedtuple(\"Student\", [\"name\", \"age\", \"grade\"])\n",
    "l = [Student(\"Alice\", 20, 53), Student(\"Bob\", 21, 90), Student(\"Charlie\", 22, 70)]\n",
    "l = sorted(l, key=lambda x: x.grade, reverse=True)\n",
    "print(l)"
   ]
  },
  {
   "cell_type": "markdown",
   "metadata": {},
   "source": [
    "## Chapter 3: Functions\n",
    "1. Closure variable parsing \n",
    "    a. reference a variable: \n",
    "    ```\n",
    "        current function's scope > \n",
    "        any enclosing scope >\n",
    "        global scope (module scope) >\n",
    "        built-in scope >\n",
    "        NameError\n",
    "    ```\n",
    "\n",
    "    b. assign a variable\n",
    "    ```\n",
    "        if already defined in the current scope:\n",
    "            take the new value\n",
    "        else:\n",
    "            treat as a enw variable\n",
    "    ```\n",
    "    c. nonlocal to rescue\n",
    "\n",
    "\n",
    "2. Starred expression\n",
    "    - starred expression: catch-all unpacking\n",
    "\n",
    "        `a, *b, c = a_list`\n",
    "    - starred expression: define variable length argument function\n",
    "\n",
    "        `def foo(x, y, *z) # z as list`\n",
    "    - starred expression: unpack iterables into function positional arguments\n",
    "\n",
    "        `foo(*a_list)`\n",
    "    - doubled starred expression: define kwargs function\n",
    "    \n",
    "        `def foo(x, y, **kwargs) # kwargs as dict`\n",
    "    - double starred expression: unpack dict into function keyword arguments\n",
    "    \n",
    "        `foo(**a_dict)`\n",
    "\n",
    "3. Positional-only and keyword-only arguments\n",
    "```\n",
    "    def foo(a, b, /, c, d, *, e, f)\n",
    "```\n",
    "\n",
    "4. Function decorator\n",
    "    - Use *args, **kwargs to pass through arguments. Use closure to access original function\n",
    "\n",
    "        def wrapper(*args, **kwargs):\n",
    "            results = func(*args, **kwargs)\n",
    "\n",
    "    - Calling decorator \n",
    "            @trace\n",
    "            def fn()\n",
    "       \n",
    "        is essentially equavallent to\n",
    "        \n",
    "    ```\n",
    "            fn = trace(fn)\n",
    "    ```\n",
    "    c. Use functions.wraps to preserve the function interface and metadata\n"
   ]
  },
  {
   "cell_type": "markdown",
   "metadata": {},
   "source": [
    "## Chapter 5: classes \n",
    "- Use class as a stateful closure. `__call__` method is a strong hint of being used a function argument.\n",
    "- Use `super().__init__()` ensure MRO initialization order and diamond inheritance.\n",
    "- `MixIn`: a very weird pattern in python\n",
    "    extract out pluggable behaviors\n",
    "    only define methods but no member variables\n",
    "    methods will act on member variables from subclasses"
   ]
  },
  {
   "cell_type": "code",
   "execution_count": 8,
   "metadata": {},
   "outputs": [
    {
     "name": "stdout",
     "output_type": "stream",
     "text": [
      "1.0\n",
      "1.5\n",
      "2.0\n",
      "{'x': 1, 'y': 2}\n"
     ]
    }
   ],
   "source": [
    "class MovingAvg:\n",
    "    def __init__(self):\n",
    "        self.n = 0\n",
    "        self.sum = 0.0\n",
    "    def __call__(self, x):\n",
    "        self.n += 1\n",
    "        self.sum += x\n",
    "        return self.sum / self.n\n",
    "ma = MovingAvg()\n",
    "print(ma(1))\n",
    "print(ma(2))\n",
    "print(ma(3))\n",
    "\n",
    "\n",
    "class PrintDictMixin:\n",
    "    def print_dict(self):\n",
    "        print(self.__dict__)\n",
    "\n",
    "class Foo(PrintDictMixin):\n",
    "    def __init__(self, x, y):\n",
    "        self.x = x\n",
    "        self.y = y\n",
    "\n",
    "f = Foo(1, 2)\n",
    "f.print_dict()"
   ]
  },
  {
   "cell_type": "code",
   "execution_count": null,
   "metadata": {},
   "outputs": [],
   "source": []
  }
 ],
 "metadata": {
  "kernelspec": {
   "display_name": "openai",
   "language": "python",
   "name": "python3"
  },
  "language_info": {
   "codemirror_mode": {
    "name": "ipython",
    "version": 3
   },
   "file_extension": ".py",
   "mimetype": "text/x-python",
   "name": "python",
   "nbconvert_exporter": "python",
   "pygments_lexer": "ipython3",
   "version": "3.11.5"
  }
 },
 "nbformat": 4,
 "nbformat_minor": 2
}
