{
  "metadata": {
    "kernelspec": {
      "name": "python",
      "display_name": "Python (Pyodide)",
      "language": "python"
    },
    "language_info": {
      "codemirror_mode": {
        "name": "python",
        "version": 3
      },
      "file_extension": ".py",
      "mimetype": "text/x-python",
      "name": "python",
      "nbconvert_exporter": "python",
      "pygments_lexer": "ipython3",
      "version": "3.8"
    }
  },
  "nbformat_minor": 4,
  "nbformat": 4,
  "cells": [
    {
      "cell_type": "markdown",
      "source": "# Python Object Model",
      "metadata": {}
    },
    {
      "cell_type": "markdown",
      "source": "**Everything is an object: derived from object, has attributes,  can be accessed and constructed at runtime.**\n\n### 1. Attributes\n* Data attribute\n  * Instance attribute\n  * Class attribute\n* Method attribute\n  * Instance method\n  * Class method\n  * Static method\n\n\n### 2. Access attributes\n#### 2.1 `__dict__` vs `dir()`\n    - `object.__dict__` stores the instance data attributes, both defined and inherited\n    - `object.__dict__` doesn't include its intance methods\n    - `object.__class__.__dict__` stores class data attributes, instance methods, class methods, and static methods\n    - `dir()` tries to access mostly all the attributes, defined and inherited\n",
      "metadata": {}
    },
    {
      "cell_type": "code",
      "source": "class Base:\n    base_class_attr: int = 1\n\n    def __init__(self):\n        self.base_attr = 2\n\n    def base_fn(self):\n        return 3\n    \nclass Derived(Base):\n    derived_class_attr: int = 4\n\n    def __init__(self):\n        super().__init__()\n        self.derived_attr = 5\n\n    def derived_fn(self):\n        return 6\n\nclass Foo(Derived):\n    foo_class_attr: int = 7\n\n    def __init__(self):\n        super().__init__()\n        self.foo_attr = 8\n\n    def foo_fn(self):\n        return 9\n\nfoo = Foo()",
      "metadata": {
        "trusted": true
      },
      "outputs": [],
      "execution_count": 3
    },
    {
      "cell_type": "code",
      "source": "%pip install tabulate",
      "metadata": {
        "trusted": true
      },
      "outputs": [],
      "execution_count": 29
    },
    {
      "cell_type": "code",
      "source": "from pprint import pprint\nfrom collections import namedtuple\nimport json\nimport tabulate\nimport types\nimport functools",
      "metadata": {
        "trusted": true
      },
      "outputs": [],
      "execution_count": 77
    },
    {
      "cell_type": "code",
      "source": "tags = ('foo.__dict__', 'Foo.__dict__', 'Derived.__dict__', 'Base.__dict__')\ndicts = (foo.__dict__, foo.__class__.__dict__, foo.__class__.__bases__[0].__dict__, foo.__class__.__bases__[0].__bases__[0].__dict__)\nkeys = (list(d.keys()) for d in dicts)\ndata = zip(tags, keys)\ntable = tabulate.tabulate(data, headers=(\"tag\", \"attributes\"))\nprint(table)",
      "metadata": {
        "trusted": true
      },
      "outputs": [
        {
          "name": "stdout",
          "text": "tag               attributes\n----------------  -----------------------------------------------------------------------------------------------------------------\nfoo.__dict__      ['base_attr', 'derived_attr', 'foo_attr']\nFoo.__dict__      ['__module__', '__annotations__', 'foo_class_attr', '__init__', 'foo_fn', '__doc__']\nDerived.__dict__  ['__module__', '__annotations__', 'derived_class_attr', '__init__', 'derived_fn', '__doc__']\nBase.__dict__     ['__module__', '__annotations__', 'base_class_attr', '__init__', 'base_fn', '__dict__', '__weakref__', '__doc__']\n",
          "output_type": "stream"
        }
      ],
      "execution_count": 32
    },
    {
      "cell_type": "code",
      "source": "\", \".join(dir(foo))",
      "metadata": {
        "trusted": true
      },
      "outputs": [
        {
          "execution_count": 39,
          "output_type": "execute_result",
          "data": {
            "text/plain": "'__annotations__, __class__, __delattr__, __dict__, __dir__, __doc__, __eq__, __format__, __ge__, __getattribute__, __getstate__, __gt__, __hash__, __init__, __init_subclass__, __le__, __lt__, __module__, __ne__, __new__, __reduce__, __reduce_ex__, __repr__, __setattr__, __sizeof__, __str__, __subclasshook__, __weakref__, base_attr, base_class_attr, base_fn, derived_attr, derived_class_attr, derived_fn, foo_attr, foo_class_attr, foo_fn'"
          },
          "metadata": {}
        }
      ],
      "execution_count": 39
    },
    {
      "cell_type": "raw",
      "source": "",
      "metadata": {}
    },
    {
      "cell_type": "markdown",
      "source": "#### 2.2 Function vs Bound Method\n- Class method is a function\n- Instance method is a bound method, automatically assigns instance to `self`\n- Use `types.MethodType` to manually bind a method",
      "metadata": {}
    },
    {
      "cell_type": "code",
      "source": "print(f\"{foo.foo_fn=}\")\nprint(f\"{Foo.foo_fn=}\")",
      "metadata": {
        "trusted": true
      },
      "outputs": [
        {
          "name": "stdout",
          "text": "foo.foo_fn=<bound method Foo.foo_fn of <__main__.Foo object at 0x2838e38>>\nFoo.foo_fn=<function Foo.foo_fn at 0x21fc918>\n",
          "output_type": "stream"
        }
      ],
      "execution_count": 41
    },
    {
      "cell_type": "code",
      "source": "def foo_fn_manual(instance):\n    return instance.foo_fn() + 1\nfoo.foo_fn2 = types.MethodType(foo_fn_manual, foo)\nfoo.foo_fn2()",
      "metadata": {
        "trusted": true
      },
      "outputs": [
        {
          "execution_count": 44,
          "output_type": "execute_result",
          "data": {
            "text/plain": "10"
          },
          "metadata": {}
        }
      ],
      "execution_count": 44
    },
    {
      "cell_type": "markdown",
      "source": "#### 2.3 Access Order\nInstance lookup scans through a chain of namespaces under following precedence\n1. Data descriptors\n2. Instance attributes/variables\n3. Class attributes/variables\n4. `__getattr__()` if provided",
      "metadata": {}
    },
    {
      "cell_type": "markdown",
      "source": "#### 2.4 \\__getattr\\__() vs \\__getattribute\\__() vs \\__get\\__()\n- `__getattr__()` is called when an attribute is not found\n- `__getattribute__()` is called for every attribute access\n- `__get__()` is called when an attribute is access through a descriptor",
      "metadata": {}
    },
    {
      "cell_type": "markdown",
      "source": "#### 2.5 Descriptor\nhttps://docs.python.org/3/howto/descriptor.html\n\n- `__get__(self, instance, owner)`\n- `__set__`\n- `__delete__`\n\n",
      "metadata": {}
    },
    {
      "cell_type": "code",
      "source": "class PositiveNum:\n    def __set_name__(self, owner, name):\n        # (I think) interpreter will call this to set the name of the descriptor, from the vraible name\n        self.private_name = f\"_{name}\"\n        \n    def __get__(self, obj, objtype=None):\n        return getattr(obj, self.private_name)\n        \n    def __set__(self, obj, value):\n        if not isinstance(value, int) or value <= 0:\n            raise ValueError(f\"Must be a positive number but got {value}\")\n        setattr(obj, self.private_name, value)\n\nclass Person:\n    age = PositiveNum()\n    height = PositiveNum()\n    \n    def __init__(self, age, height):\n        # 1. This line will creates an new instance of PositiveNum for the new instance of Person.\n        # 2. It means, each instance of Person will have its own PostiveNum instances\n        # 3. Then, this triggers PositiveNum.__set__(), which creates a new attribute _age for this Person's instance\n        self.age = age\n        self.height = height\n\nperson = Person(10, 100)\nperson.age = 15\ntry:\n    person.age = -1\nexcept ValueError as e:\n    print(str(e))\n\n# Each instance creates its own PositiveNum instances\nperson2 = Person(10, 100)\nprint(f\"{id(person.age)=}, {id(person2.age)=}, {id(Person.__dict__['age'])=}\")\n\n# PositiveNum __set__ creates dynamic attributes to Person instances\nprint(person.__dict__)",
      "metadata": {
        "trusted": true
      },
      "outputs": [
        {
          "name": "stdout",
          "text": "Must be a positive number but got -1\nid(person.age)=2811132, id(person2.age)=2811052, id(Person.__dict__['age'])=52225952\n{'_age': 15, '_height': 100}\n",
          "output_type": "stream"
        }
      ],
      "execution_count": 64
    },
    {
      "cell_type": "markdown",
      "source": "### 3. Class is an Object\n- `person` is an instance of `Person` class.\n- `Person` class is an instance of `type`\n- `type(type)` is itself",
      "metadata": {}
    },
    {
      "cell_type": "code",
      "source": "print(type(Person))\nprint(type(type))",
      "metadata": {
        "trusted": true
      },
      "outputs": [
        {
          "name": "stdout",
          "text": "<class 'type'>\n<class 'type'>\n",
          "output_type": "stream"
        }
      ],
      "execution_count": 66
    },
    {
      "cell_type": "markdown",
      "source": "### 4. Metaprogramming\n3 ways of metaprogramming\n1. Use `type()` to generate class object, e.g. `namedtuple`\n2. Use class decorator\n3. Use `metaclass`",
      "metadata": {}
    },
    {
      "cell_type": "code",
      "source": "# namedtuple generates a class object\nStudent = namedtuple(\"Student\", [\"name\", \"age\"])\nstudent = Student(\"bob\", 16)\nprint(f\"{student}\")\nprint(f\"{student.__class__.__name__=}\")",
      "metadata": {
        "trusted": true
      },
      "outputs": [
        {
          "name": "stdout",
          "text": "Student(name='bob', age=16)\nstudent.__class__.__name__='Student'\n",
          "output_type": "stream"
        }
      ],
      "execution_count": 71
    },
    {
      "cell_type": "code",
      "source": "# Use type() to generate class object\ndef my_namedtuple(class_name, field_names):\n    field_names = list(field_names)\n\n    def __init__(instance, *args, **kwargs):\n        attrs = dict(zip(field_names, args))\n        attrs.update(kwargs)\n        for name, val in attrs.items():\n            setattr(instance, name, val)\n\n    def __repr__(self):\n        return f\"{class_name}({', '.join([f'{name}={getattr(self, name)}' for name in field_names])})\"\n\n    cls_attrs = {\n        \"__init__\": __init__,\n        \"__repr__\": __repr__,\n    }\n    return type(class_name, (object,), cls_attrs)\n\nPerson = my_namedtuple(\"Person\", [\"name\", \"age\"])\nperson = Person(\"Alice\", 15, height=155)\nprint(person)\n\nCat = my_namedtuple(\"Cat\", [\"name\", \"age\", \"clolor\"])\ncat = Cat(\"tom\", 2, \"black\", weight=3)\nprint(cat)",
      "metadata": {
        "trusted": true
      },
      "outputs": [
        {
          "name": "stdout",
          "text": "Person(name=Alice, age=15)\nCat(name=tom, age=2, clolor=black)\n",
          "output_type": "stream"
        }
      ],
      "execution_count": 75
    },
    {
      "cell_type": "code",
      "source": "# Use class decorator \ndef log_method_invocation(func, cls):\n    @functools.wraps(func)\n    def wrapper(*args, **kwargs):\n        if args and isinstance(args[0], cls): # is a member method\n            print(f\"Calling member method {func.__name__} on instance {args[0]}\")\n        else:\n            print(f\"Calling static method {func.__name__}\")\n    return wrapper\n\ndef log_all_methods(cls):\n    for name, val in cls.__dict__.items():\n        if callable(val):\n            setattr(cls, name, log_method_invocation(val, cls))\n    return cls\n\n@log_all_methods\nclass MyClass:\n    def __init__(self):\n        pass\n\n    def fn(self):\n        pass\n\n    @staticmethod\n    def static_fn():\n        pass\n\nmy_instance = MyClass()\nmy_instance.fn()\nmy_instance.__class__.static_fn()",
      "metadata": {
        "trusted": true
      },
      "outputs": [
        {
          "name": "stdout",
          "text": "Calling member method __init__ on instance <__main__.MyClass object at 0x2ecdc78>\nCalling member method fn on instance <__main__.MyClass object at 0x2ecdc78>\nCalling static method static_fn\n",
          "output_type": "stream"
        }
      ],
      "execution_count": 80
    },
    {
      "cell_type": "code",
      "source": "# Metaclass\n\nclass LogMethodsMeta(type):\n    def __new__(cls, cls_name, bases, cls_attrs):\n        new_class = super().__new__(cls, cls_name, bases, cls_attrs)\n        for name, val in cls_attrs.items():\n            if callable(val):\n                setattr(new_class, name, log_method_invocation(val, new_class))\n        return new_class\n\nclass MyClass(metaclass=LogMethodsMeta):\n    def __init__(self):\n        pass\n\n    def fn(self):\n        pass\n\n    @staticmethod\n    def static_fn():\n        pass\n\nmy_instance = MyClass()\nmy_instance.fn()\nmy_instance.__class__.static_fn()\n    ",
      "metadata": {
        "trusted": true
      },
      "outputs": [
        {
          "name": "stdout",
          "text": "Calling member method __init__ on instance <__main__.MyClass object at 0x2ea1350>\nCalling member method fn on instance <__main__.MyClass object at 0x2ea1350>\nCalling static method static_fn\n",
          "output_type": "stream"
        }
      ],
      "execution_count": 83
    }
  ]
}